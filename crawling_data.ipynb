{
 "cells": [
  {
   "cell_type": "code",
   "execution_count": 1,
   "id": "1b4c57b1-1354-4262-8dae-9715e6d81265",
   "metadata": {},
   "outputs": [],
   "source": [
    "import os"
   ]
  },
  {
   "cell_type": "code",
   "execution_count": 2,
   "id": "5eb796a3-917a-4dcc-adac-02aa4a32c253",
   "metadata": {},
   "outputs": [],
   "source": [
    "def create_project(directory):\n",
    "    if not os.path.exists(directory):\n",
    "        print(\"Creating project\", directory)\n",
    "        os.makedirs(directory)"
   ]
  },
  {
   "cell_type": "code",
   "execution_count": 3,
   "id": "07d3d72b-fa57-4991-b298-f44f1870d6ac",
   "metadata": {},
   "outputs": [
    {
     "name": "stdout",
     "output_type": "stream",
     "text": [
      "Creating project Thinh\n"
     ]
    }
   ],
   "source": [
    "create_project('Thinh')"
   ]
  },
  {
   "cell_type": "code",
   "execution_count": 4,
   "id": "fdaa2992-a26f-4da6-9491-cfedca4cd790",
   "metadata": {},
   "outputs": [],
   "source": [
    "def write_file(file_name,content):\n",
    "    with open (file_name, 'w') as f:\n",
    "        f.write(content)"
   ]
  },
  {
   "cell_type": "code",
   "execution_count": 5,
   "id": "0319cab5-ff83-4980-b493-0ae58d4529fb",
   "metadata": {},
   "outputs": [],
   "source": [
    "def create_file(project_name,base_url):\n",
    "    queue = project_name + '_queue.txt'\n",
    "    crawled = project_name + '_crawled.txt'\n",
    "    if not os.path.isfile(queue):\n",
    "        write_file(queue, base_url)\n",
    "    if not os.path.isfile(crawled):\n",
    "        write_file(crawled,'')\n",
    "        "
   ]
  },
  {
   "cell_type": "code",
   "execution_count": 6,
   "id": "a3a30751-ff94-4608-b846-e2f58c4efb7e",
   "metadata": {},
   "outputs": [],
   "source": [
    "create_file('thenewboston', 'https://thenewboston.com/')"
   ]
  },
  {
   "cell_type": "code",
   "execution_count": 7,
   "id": "8b735a9b-05f2-4c55-a70f-ee47768e4134",
   "metadata": {},
   "outputs": [],
   "source": [
    "write_file('vidu','hello')"
   ]
  },
  {
   "cell_type": "code",
   "execution_count": 8,
   "id": "1a7219c2-b2f9-41b8-9adb-c93ddf898339",
   "metadata": {},
   "outputs": [],
   "source": [
    "with open ('thenewboston_queue.txt','w') as f:\n",
    "    f.write('Hello')"
   ]
  },
  {
   "cell_type": "code",
   "execution_count": 14,
   "id": "d6ec1456-cc24-471a-9a13-79b9064aac9a",
   "metadata": {},
   "outputs": [],
   "source": [
    "def append_to_file(path,data):\n",
    "    with open (path,'a') as f:\n",
    "        f.write(data + '\\n')\n",
    "def delete_file_content(path):\n",
    "    with open (path,'w') as f:\n",
    "        pass"
   ]
  },
  {
   "cell_type": "code",
   "execution_count": 12,
   "id": "409940be-f8f4-4682-a20d-2071443c6dde",
   "metadata": {},
   "outputs": [],
   "source": [
    "from urllib import parse\n",
    "from html.parser import HTMLParser"
   ]
  },
  {
   "cell_type": "code",
   "execution_count": 13,
   "id": "4dba6aca-048d-4d9e-aff8-9400d3445b0c",
   "metadata": {},
   "outputs": [],
   "source": [
    "class LinkFinder(HTMLParser):\n",
    "    def __init__(self,base_url,page_url):\n",
    "        super().__init__()\n",
    "        self.base_url = base_url\n",
    "        self.page_url = page_url\n",
    "        self.links = set()\n",
    "    def handle_starttag(self,tag,attrs):\n",
    "        if tag == 'a':\n",
    "            for (attribute,value) in attrs:\n",
    "                if attribute == 'href':\n",
    "                    url = parse.urljoin(self.base_url,value)\n",
    "                    self.links.add(url)\n",
    "    def page_links(self):\n",
    "        return self.links\n",
    "    def error(self,message):\n",
    "        pass"
   ]
  },
  {
   "cell_type": "code",
   "execution_count": 16,
   "id": "51fd8bb1-4725-4ec7-be49-dc33fb2df04b",
   "metadata": {},
   "outputs": [],
   "source": [
    "def file_to_set(file_name):\n",
    "    result = set()\n",
    "    with open (file_name, 'rt') as f:\n",
    "        for line in f:\n",
    "            result.add(line.replace('\\n',''))\n",
    "        return result\n",
    "def set_to_file(links,file):\n",
    "    delete_file_content(file)\n",
    "    for link in sorted(links):\n",
    "        append_to_file(file,link)"
   ]
  },
  {
   "cell_type": "code",
   "execution_count": null,
   "id": "169be05c-3045-4596-8fb8-d9054f8cc7d7",
   "metadata": {},
   "outputs": [],
   "source": []
  },
  {
   "cell_type": "code",
   "execution_count": null,
   "id": "04635d5b-b947-4e5b-8801-a266f6121bfc",
   "metadata": {},
   "outputs": [],
   "source": []
  },
  {
   "cell_type": "code",
   "execution_count": null,
   "id": "d1142719-66b9-449a-b067-6091838ad166",
   "metadata": {},
   "outputs": [],
   "source": []
  }
 ],
 "metadata": {
  "kernelspec": {
   "display_name": "Python 3 (ipykernel)",
   "language": "python",
   "name": "python3"
  },
  "language_info": {
   "codemirror_mode": {
    "name": "ipython",
    "version": 3
   },
   "file_extension": ".py",
   "mimetype": "text/x-python",
   "name": "python",
   "nbconvert_exporter": "python",
   "pygments_lexer": "ipython3",
   "version": "3.12.5"
  }
 },
 "nbformat": 4,
 "nbformat_minor": 5
}
