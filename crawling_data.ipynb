{
 "cells": [
  {
   "cell_type": "code",
   "execution_count": 1,
   "id": "1b4c57b1-1354-4262-8dae-9715e6d81265",
   "metadata": {},
   "outputs": [],
   "source": [
    "import os"
   ]
  },
  {
   "cell_type": "code",
   "execution_count": 2,
   "id": "5eb796a3-917a-4dcc-adac-02aa4a32c253",
   "metadata": {},
   "outputs": [],
   "source": [
    "def create_project(directory):\n",
    "    if not os.path.exists(directory):\n",
    "        print(\"Creating project\", directory)\n",
    "        os.makedirs(directory)"
   ]
  },
  {
   "cell_type": "code",
   "execution_count": 3,
   "id": "07d3d72b-fa57-4991-b298-f44f1870d6ac",
   "metadata": {},
   "outputs": [
    {
     "name": "stdout",
     "output_type": "stream",
     "text": [
      "Creating project Thinh\n"
     ]
    }
   ],
   "source": [
    "create_project('Thinh')"
   ]
  },
  {
   "cell_type": "code",
   "execution_count": 10,
   "id": "fdaa2992-a26f-4da6-9491-cfedca4cd790",
   "metadata": {},
   "outputs": [],
   "source": [
    "def write_file(file_name,content):\n",
    "    with open (file_name, 'w') as f:\n",
    "        f.write(content)"
   ]
  },
  {
   "cell_type": "code",
   "execution_count": 17,
   "id": "0319cab5-ff83-4980-b493-0ae58d4529fb",
   "metadata": {},
   "outputs": [],
   "source": [
    "def create_file(project_name,base_url):\n",
    "    queue = project_name + '_queue.txt'\n",
    "    crawled = project_name + '_crawled.txt'\n",
    "    if not os.path.isfile(queue):\n",
    "        write_file(queue, base_url)\n",
    "    if not os.path.isfile(crawled):\n",
    "        write_file(crawled,'')\n",
    "        "
   ]
  },
  {
   "cell_type": "code",
   "execution_count": 18,
   "id": "a3a30751-ff94-4608-b846-e2f58c4efb7e",
   "metadata": {},
   "outputs": [],
   "source": [
    "create_file('thenewboston', 'https://thenewboston.com/')"
   ]
  },
  {
   "cell_type": "code",
   "execution_count": 13,
   "id": "8b735a9b-05f2-4c55-a70f-ee47768e4134",
   "metadata": {},
   "outputs": [],
   "source": [
    "write_file('vidu','hello')"
   ]
  },
  {
   "cell_type": "code",
   "execution_count": 16,
   "id": "1a7219c2-b2f9-41b8-9adb-c93ddf898339",
   "metadata": {},
   "outputs": [],
   "source": [
    "with open ('thenewboston_queue.txt','w') as f:\n",
    "    f.write('Hello')"
   ]
  },
  {
   "cell_type": "code",
   "execution_count": 21,
   "id": "d6ec1456-cc24-471a-9a13-79b9064aac9a",
   "metadata": {},
   "outputs": [],
   "source": [
    "def append_to_file(path,data):\n",
    "    with open (file,'a') as f:\n",
    "        f.write(data + '\\n')\n",
    "def delete_file_content(path):\n",
    "    with open (path,'w') as f:\n",
    "        pass"
   ]
  },
  {
   "cell_type": "code",
   "execution_count": null,
   "id": "1eed5ec1-8a9f-4146-8fc1-f8424d6677e1",
   "metadata": {},
   "outputs": [],
   "source": []
  }
 ],
 "metadata": {
  "kernelspec": {
   "display_name": "Python 3 (ipykernel)",
   "language": "python",
   "name": "python3"
  },
  "language_info": {
   "codemirror_mode": {
    "name": "ipython",
    "version": 3
   },
   "file_extension": ".py",
   "mimetype": "text/x-python",
   "name": "python",
   "nbconvert_exporter": "python",
   "pygments_lexer": "ipython3",
   "version": "3.12.5"
  }
 },
 "nbformat": 4,
 "nbformat_minor": 5
}
